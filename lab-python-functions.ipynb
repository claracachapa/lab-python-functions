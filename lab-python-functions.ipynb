{
 "cells": [
  {
   "cell_type": "markdown",
   "id": "25d7736c-ba17-4aff-b6bb-66eba20fbf4e",
   "metadata": {},
   "source": [
    "# Lab | Functions"
   ]
  },
  {
   "cell_type": "code",
   "execution_count": null,
   "id": "f004e7aa-39cb-4669-90d8-83a7ee8d1f27",
   "metadata": {},
   "outputs": [],
   "source": [
    " "
   ]
  },
  {
   "cell_type": "markdown",
   "id": "0c581062-8967-4d93-b06e-62833222f930",
   "metadata": {
    "tags": []
   },
   "source": [
    "## Exercise: Managing Customer Orders with Functions\n",
    "\n",
    "In the previous exercise, you improved the code for managing customer orders by using loops and flow control. Now, let's take it a step further and refactor the code by introducing functions.\n",
    "\n",
    "Follow the steps below to complete the exercise:\n",
    "\n",
    "1. Define a function named `initialize_inventory` that takes `products` as a parameter. Inside the function, implement the code for initializing the inventory dictionary using a loop and user input.\n",
    "\n",
    "2. Define a function named `get_customer_orders` that takes no parameters. Inside the function, implement the code for prompting the user to enter the product names using a loop. The function should return the `customer_orders` set.\n",
    "\n",
    "3. Define a function named `update_inventory` that takes `customer_orders` and `inventory` as parameters. Inside the function, implement the code for updating the inventory dictionary based on the customer orders.\n",
    "\n",
    "4. Define a function named `calculate_order_statistics` that takes `customer_orders` and `products` as parameters. Inside the function, implement the code for calculating the order statistics (total products ordered, and percentage of unique products ordered). The function should return these values.\n",
    "\n",
    "5. Define a function named `print_order_statistics` that takes `order_statistics` as a parameter. Inside the function, implement the code for printing the order statistics.\n",
    "\n",
    "6. Define a function named `print_updated_inventory` that takes `inventory` as a parameter. Inside the function, implement the code for printing the updated inventory.\n",
    "\n",
    "7. Call the functions in the appropriate sequence to execute the program and manage customer orders.\n",
    "\n",
    "Hints for functions:\n",
    "\n",
    "- Consider the input parameters required for each function and their return values.\n",
    "- Utilize function parameters and return values to transfer data between functions.\n",
    "- Test your functions individually to ensure they work correctly.\n",
    "\n",
    "\n"
   ]
  },
  {
   "cell_type": "code",
   "execution_count": 60,
   "id": "3210966c-6967-43e0-918b-c267f7c0152c",
   "metadata": {},
   "outputs": [],
   "source": [
    "products = ['t-shirt', 'mug', 'hat', 'book', 'keychain']"
   ]
  },
  {
   "cell_type": "code",
   "execution_count": 78,
   "id": "906b0ff9-b2cb-489d-8a57-e1a7d75c4478",
   "metadata": {},
   "outputs": [
    {
     "name": "stdin",
     "output_type": "stream",
     "text": [
      "Enter the stock quantity for t-shirt:  10\n",
      "Enter the stock quantity for mug:  15\n",
      "Enter the stock quantity for hat:  30\n",
      "Enter the stock quantity for book:  15\n",
      "Enter the stock quantity for keychain:  12\n"
     ]
    },
    {
     "data": {
      "text/plain": [
       "{'t-shirt': 10, 'mug': 15, 'hat': 30, 'book': 15, 'keychain': 12}"
      ]
     },
     "execution_count": 78,
     "metadata": {},
     "output_type": "execute_result"
    }
   ],
   "source": [
    "def initialize_inventory(products):\n",
    "    inventory = {}\n",
    "    for product in products:\n",
    "        while True:\n",
    "            try:\n",
    "                stock = int(input(f\"Enter the stock quantity for {product}: \"))\n",
    "                inventory[product] = stock\n",
    "                break\n",
    "            except ValueError:\n",
    "                print(\"Invalid input. Please enter a valid number.\")\n",
    "    return inventory\n",
    "\n",
    "initialize_inventory(products)"
   ]
  },
  {
   "cell_type": "code",
   "execution_count": 152,
   "id": "03bb99da-636c-4f03-9ebf-1329c3e2bc0b",
   "metadata": {},
   "outputs": [
    {
     "name": "stdout",
     "output_type": "stream",
     "text": [
      "Enter the product names to order (type 'done' to finish):\n"
     ]
    },
    {
     "name": "stdin",
     "output_type": "stream",
     "text": [
      "Product name:  wkiusg\n"
     ]
    },
    {
     "name": "stdout",
     "output_type": "stream",
     "text": [
      "wkiusg is not a valid product. Please try again.\n"
     ]
    },
    {
     "name": "stdin",
     "output_type": "stream",
     "text": [
      "Product name:  mug\n",
      "Product name:  book\n",
      "Product name:  done\n"
     ]
    }
   ],
   "source": [
    "def get_customer_orders():\n",
    "    customer_orders = set()  # Using a set to avoid duplicates\n",
    "    print(\"Enter the product names to order (type 'done' to finish):\")\n",
    "    while True:\n",
    "        order = input(\"Product name: \").lower().strip()\n",
    "        if order == 'done':\n",
    "            break\n",
    "        elif order in products:\n",
    "            customer_orders.add(order)  # Add to set (no duplicates)\n",
    "        else:\n",
    "            print(f\"{order} is not a valid product. Please try again.\")\n",
    "    return customer_orders\n",
    "\n",
    "customer_orders = get_customer_orders()"
   ]
  },
  {
   "cell_type": "code",
   "execution_count": 154,
   "id": "df4f365a-44be-4aef-9e40-3c663a510883",
   "metadata": {},
   "outputs": [
    {
     "name": "stdout",
     "output_type": "stream",
     "text": [
      "\n",
      "Customer Orders: {'book', 'mug'}\n",
      "Processing order for: book\n",
      "book inventory updated, new quantity: 14\n",
      "Processing order for: mug\n",
      "mug inventory updated, new quantity: 14\n"
     ]
    },
    {
     "data": {
      "text/plain": [
       "{'t-shirt': 10, 'mug': 14, 'hat': 30, 'book': 14, 'keychain': 12}"
      ]
     },
     "execution_count": 154,
     "metadata": {},
     "output_type": "execute_result"
    }
   ],
   "source": [
    "def update_inventory(customer_orders, inventory):\n",
    "    print(\"\\nCustomer Orders:\", customer_orders)  \n",
    "    for order in customer_orders:\n",
    "        print(f\"Processing order for: {order}\")  \n",
    "        if order in inventory:\n",
    "            if inventory[order] > 0:\n",
    "                inventory[order] -= 1\n",
    "                print(f\"{order} inventory updated, new quantity: {inventory[order]}\")  \n",
    "            else:\n",
    "                print(f\"Sorry, {order} is out of stock!\")  \n",
    "        else:\n",
    "            print(f\"Error: {order} is not a valid product.\")\n",
    "    return inventory\n",
    "\n",
    "\n",
    "update_inventory(customer_orders, inventory)"
   ]
  },
  {
   "cell_type": "code",
   "execution_count": 160,
   "id": "0e9cb446-f6ba-4d88-b20e-ded6f8394c9b",
   "metadata": {},
   "outputs": [
    {
     "name": "stdout",
     "output_type": "stream",
     "text": [
      "Updated Inventory:\n",
      "t-shirt: 10\n",
      "mug: 14\n",
      "hat: 30\n",
      "book: 14\n",
      "keychain: 12\n"
     ]
    }
   ],
   "source": [
    "def print_updated_inventory(inventory):\n",
    "    print(\"Updated Inventory:\")\n",
    "    for product, quantity in inventory.items():\n",
    "        print(f\"{product}: {quantity}\")\n",
    "\n",
    "print_updated_inventory(inventory)"
   ]
  },
  {
   "cell_type": "code",
   "execution_count": 202,
   "id": "0eb70f57-0bf4-4ee3-9d89-781c5b0fb8ed",
   "metadata": {},
   "outputs": [
    {
     "name": "stdout",
     "output_type": "stream",
     "text": [
      "(2, 40.0)\n"
     ]
    }
   ],
   "source": [
    "def calculate_order_statistics(customer_orders, products):\n",
    "    total_items_ordered = len(customer_orders)  \n",
    "    percentage_unique = (total_items_ordered / len(products)) * 100 \n",
    "    return total_items_ordered, percentage_unique\n",
    "    \n",
    "order_statistics = calculate_order_statistics(customer_orders, products)\n",
    "\n",
    "def print_order_statistics (order_statistics):\n",
    "    return print(order_statistics)\n",
    "\n",
    "print_order_statistics(order_statistics)"
   ]
  }
 ],
 "metadata": {
  "kernelspec": {
   "display_name": "Python 3 (ipykernel)",
   "language": "python",
   "name": "python3"
  },
  "language_info": {
   "codemirror_mode": {
    "name": "ipython",
    "version": 3
   },
   "file_extension": ".py",
   "mimetype": "text/x-python",
   "name": "python",
   "nbconvert_exporter": "python",
   "pygments_lexer": "ipython3",
   "version": "3.11.7"
  }
 },
 "nbformat": 4,
 "nbformat_minor": 5
}
